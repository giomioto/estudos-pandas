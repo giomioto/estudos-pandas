{
 "cells": [
  {
   "cell_type": "code",
   "execution_count": 2,
   "id": "4c10217b",
   "metadata": {},
   "outputs": [],
   "source": [
    "import pandas as pd"
   ]
  },
  {
   "cell_type": "code",
   "execution_count": 3,
   "id": "ab6d45d9",
   "metadata": {},
   "outputs": [],
   "source": [
    "df = pd.read_csv(\"Dados aula 1.csv\", encoding = \"UTF-8\", sep =\";\")"
   ]
  },
  {
   "cell_type": "code",
   "execution_count": 4,
   "id": "8ca6be18",
   "metadata": {},
   "outputs": [],
   "source": [
    "df = pd.read_csv(\"Dados aula 1.csv\", encoding = \"UTF-8\", sep =\";\", header = 0)"
   ]
  },
  {
   "cell_type": "code",
   "execution_count": 5,
   "id": "0deef504",
   "metadata": {},
   "outputs": [
    {
     "data": {
      "text/plain": [
       "(1000, 9)"
      ]
     },
     "execution_count": 5,
     "metadata": {},
     "output_type": "execute_result"
    }
   ],
   "source": [
    "df.shape"
   ]
  },
  {
   "cell_type": "code",
   "execution_count": 10,
   "id": "42aa3a42",
   "metadata": {},
   "outputs": [],
   "source": [
    "df = pd.read_csv(\"Dados aula 1.csv\", encoding = \"UTF-8\", sep =\";\", header = 0, usecols=[\"AddressID\",\"AddressLine1\"])"
   ]
  },
  {
   "cell_type": "code",
   "execution_count": 15,
   "id": "4c6eeab2",
   "metadata": {},
   "outputs": [],
   "source": [
    "df = pd.read_csv(\"Dados aula 1.csv\", encoding = \"UTF-8\", sep =\";\", header = 0, usecols=[\"AddressID\",\"AddressLine1\"], nrows=200)"
   ]
  },
  {
   "cell_type": "code",
   "execution_count": 16,
   "id": "2862ec43",
   "metadata": {},
   "outputs": [
    {
     "data": {
      "text/html": [
       "<div>\n",
       "<style scoped>\n",
       "    .dataframe tbody tr th:only-of-type {\n",
       "        vertical-align: middle;\n",
       "    }\n",
       "\n",
       "    .dataframe tbody tr th {\n",
       "        vertical-align: top;\n",
       "    }\n",
       "\n",
       "    .dataframe thead th {\n",
       "        text-align: right;\n",
       "    }\n",
       "</style>\n",
       "<table border=\"1\" class=\"dataframe\">\n",
       "  <thead>\n",
       "    <tr style=\"text-align: right;\">\n",
       "      <th></th>\n",
       "      <th>AddressID</th>\n",
       "      <th>AddressLine1</th>\n",
       "    </tr>\n",
       "  </thead>\n",
       "  <tbody>\n",
       "    <tr>\n",
       "      <th>0</th>\n",
       "      <td>1</td>\n",
       "      <td>1970 Napa Ct.</td>\n",
       "    </tr>\n",
       "    <tr>\n",
       "      <th>1</th>\n",
       "      <td>2</td>\n",
       "      <td>9833 Mt. Dias Blv.</td>\n",
       "    </tr>\n",
       "    <tr>\n",
       "      <th>2</th>\n",
       "      <td>3</td>\n",
       "      <td>7484 Roundtree Drive</td>\n",
       "    </tr>\n",
       "    <tr>\n",
       "      <th>3</th>\n",
       "      <td>4</td>\n",
       "      <td>9539 Glenside Dr</td>\n",
       "    </tr>\n",
       "    <tr>\n",
       "      <th>4</th>\n",
       "      <td>5</td>\n",
       "      <td>1226 Shoe St.</td>\n",
       "    </tr>\n",
       "    <tr>\n",
       "      <th>...</th>\n",
       "      <td>...</td>\n",
       "      <td>...</td>\n",
       "    </tr>\n",
       "    <tr>\n",
       "      <th>195</th>\n",
       "      <td>196</td>\n",
       "      <td>4525 Benedict Ct.</td>\n",
       "    </tr>\n",
       "    <tr>\n",
       "      <th>196</th>\n",
       "      <td>197</td>\n",
       "      <td>7820 Bird Drive</td>\n",
       "    </tr>\n",
       "    <tr>\n",
       "      <th>197</th>\n",
       "      <td>198</td>\n",
       "      <td>1962 Ferndale Lane</td>\n",
       "    </tr>\n",
       "    <tr>\n",
       "      <th>198</th>\n",
       "      <td>199</td>\n",
       "      <td>5263 Etcheverry Dr</td>\n",
       "    </tr>\n",
       "    <tr>\n",
       "      <th>199</th>\n",
       "      <td>200</td>\n",
       "      <td>2473 Orchard Way</td>\n",
       "    </tr>\n",
       "  </tbody>\n",
       "</table>\n",
       "<p>200 rows × 2 columns</p>\n",
       "</div>"
      ],
      "text/plain": [
       "     AddressID          AddressLine1\n",
       "0            1         1970 Napa Ct.\n",
       "1            2    9833 Mt. Dias Blv.\n",
       "2            3  7484 Roundtree Drive\n",
       "3            4      9539 Glenside Dr\n",
       "4            5         1226 Shoe St.\n",
       "..         ...                   ...\n",
       "195        196     4525 Benedict Ct.\n",
       "196        197       7820 Bird Drive\n",
       "197        198    1962 Ferndale Lane\n",
       "198        199    5263 Etcheverry Dr\n",
       "199        200      2473 Orchard Way\n",
       "\n",
       "[200 rows x 2 columns]"
      ]
     },
     "execution_count": 16,
     "metadata": {},
     "output_type": "execute_result"
    }
   ],
   "source": [
    "df.head()"
   ]
  },
  {
   "cell_type": "code",
   "execution_count": null,
   "id": "4ea0c66a",
   "metadata": {},
   "outputs": [],
   "source": []
  }
 ],
 "metadata": {
  "kernelspec": {
   "display_name": "Python 3 (ipykernel)",
   "language": "python",
   "name": "python3"
  },
  "language_info": {
   "codemirror_mode": {
    "name": "ipython",
    "version": 3
   },
   "file_extension": ".py",
   "mimetype": "text/x-python",
   "name": "python",
   "nbconvert_exporter": "python",
   "pygments_lexer": "ipython3",
   "version": "3.10.9"
  }
 },
 "nbformat": 4,
 "nbformat_minor": 5
}
